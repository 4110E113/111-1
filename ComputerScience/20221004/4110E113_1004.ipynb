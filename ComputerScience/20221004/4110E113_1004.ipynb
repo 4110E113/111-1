{
  "nbformat": 4,
  "nbformat_minor": 0,
  "metadata": {
    "colab": {
      "provenance": [],
      "collapsed_sections": []
    },
    "kernelspec": {
      "name": "python3",
      "display_name": "Python 3"
    },
    "language_info": {
      "name": "python"
    }
  },
  "cells": [
    {
      "cell_type": "code",
      "execution_count": null,
      "metadata": {
        "colab": {
          "base_uri": "https://localhost:8080/"
        },
        "id": "FI8fXlFmuYl9",
        "outputId": "c5997097-3337-4bac-bd9d-7908b88708be"
      },
      "outputs": [
        {
          "output_type": "stream",
          "name": "stdout",
          "text": [
            "Enter your name:0\n",
            "HEllo ,0\n"
          ]
        }
      ],
      "source": [
        "a = input('Enter your name:')\n",
        "print('HEllo ,'+ a)"
      ]
    },
    {
      "cell_type": "code",
      "source": [
        "x = (input(\"請輸入：\"))\n",
        "x\n",
        "\n",
        "b = x+50\n",
        "b"
      ],
      "metadata": {
        "colab": {
          "base_uri": "https://localhost:8080/",
          "height": 237
        },
        "id": "uzj_JRUFvSrs",
        "outputId": "26239a61-02b5-46f1-90b2-8857318d4b6b"
      },
      "execution_count": null,
      "outputs": [
        {
          "name": "stdout",
          "output_type": "stream",
          "text": [
            "請輸入：50\n"
          ]
        },
        {
          "output_type": "error",
          "ename": "TypeError",
          "evalue": "ignored",
          "traceback": [
            "\u001b[0;31m---------------------------------------------------------------------------\u001b[0m",
            "\u001b[0;31mTypeError\u001b[0m                                 Traceback (most recent call last)",
            "\u001b[0;32m<ipython-input-9-669391e54c16>\u001b[0m in \u001b[0;36m<module>\u001b[0;34m\u001b[0m\n\u001b[1;32m      2\u001b[0m \u001b[0mx\u001b[0m\u001b[0;34m\u001b[0m\u001b[0;34m\u001b[0m\u001b[0m\n\u001b[1;32m      3\u001b[0m \u001b[0;34m\u001b[0m\u001b[0m\n\u001b[0;32m----> 4\u001b[0;31m \u001b[0mb\u001b[0m \u001b[0;34m=\u001b[0m \u001b[0mx\u001b[0m\u001b[0;34m+\u001b[0m\u001b[0;36m50\u001b[0m\u001b[0;34m\u001b[0m\u001b[0;34m\u001b[0m\u001b[0m\n\u001b[0m\u001b[1;32m      5\u001b[0m \u001b[0mb\u001b[0m\u001b[0;34m\u001b[0m\u001b[0;34m\u001b[0m\u001b[0m\n",
            "\u001b[0;31mTypeError\u001b[0m: can only concatenate str (not \"int\") to str"
          ]
        }
      ]
    },
    {
      "cell_type": "code",
      "source": [
        "x = int (input(\"請輸入：\"))\n",
        "x\n",
        "\n",
        "b =(x+50)\n",
        "b"
      ],
      "metadata": {
        "colab": {
          "base_uri": "https://localhost:8080/"
        },
        "id": "w4Nf2usFG761",
        "outputId": "0faff2b0-444e-4074-d438-98e18b1ba70c"
      },
      "execution_count": null,
      "outputs": [
        {
          "name": "stdout",
          "output_type": "stream",
          "text": [
            "請輸入：3\n"
          ]
        },
        {
          "output_type": "execute_result",
          "data": {
            "text/plain": [
              "53"
            ]
          },
          "metadata": {},
          "execution_count": 13
        }
      ]
    },
    {
      "cell_type": "code",
      "source": [
        "a = '''iashuhuhqbwbdsuhfuia\n",
        "auqahfoancaos\n",
        "aiwdishibguefuckauwdsbbuheua.'''\n",
        "print(a)"
      ],
      "metadata": {
        "colab": {
          "base_uri": "https://localhost:8080/"
        },
        "id": "IcsTaEZwvmPj",
        "outputId": "34f9d6eb-dd68-4ab3-cb3a-d0fd4d5426c4"
      },
      "execution_count": null,
      "outputs": [
        {
          "output_type": "stream",
          "name": "stdout",
          "text": [
            "iashuhuhqbwbdsuhfuia\n",
            "auqahfoancaos\n",
            "aiwdishibguefuckauwdsbbuheua.\n"
          ]
        }
      ]
    },
    {
      "cell_type": "code",
      "source": [
        "x = 1.10\n",
        "y = 1\n",
        "z = -35.59\n",
        "\n",
        "print(type(x))\n",
        "print(type(y))\n",
        "print(type(z))"
      ],
      "metadata": {
        "colab": {
          "base_uri": "https://localhost:8080/"
        },
        "id": "mOQ5-voZ26y-",
        "outputId": "70f257fd-9315-45ab-f7b6-c682a8f2a194"
      },
      "execution_count": null,
      "outputs": [
        {
          "output_type": "stream",
          "name": "stdout",
          "text": [
            "<class 'float'>\n",
            "<class 'int'>\n",
            "<class 'float'>\n"
          ]
        }
      ]
    },
    {
      "cell_type": "code",
      "source": [
        "x = [\"apple\", \"banana\", \"cherry\", \"apple\", \"cherry\"]\n",
        "print(x)"
      ],
      "metadata": {
        "colab": {
          "base_uri": "https://localhost:8080/"
        },
        "id": "qck_bkhA3Urd",
        "outputId": "508f3414-252b-43f5-d554-015acaaac94b"
      },
      "execution_count": null,
      "outputs": [
        {
          "output_type": "stream",
          "name": "stdout",
          "text": [
            "['apple', 'banana', 'cherry', 'apple', 'cherry']\n"
          ]
        }
      ]
    },
    {
      "cell_type": "code",
      "source": [
        "dict = {\n",
        "  \"brand\": \"Ford\",\n",
        "  \"model\": \"Mustang\",\n",
        "  \"year\": 2022\n",
        "}\n",
        "print(dict)"
      ],
      "metadata": {
        "colab": {
          "base_uri": "https://localhost:8080/"
        },
        "id": "0sUF8wKE3m4F",
        "outputId": "bbd85284-90a4-4266-8ad6-25ebe8955ea2"
      },
      "execution_count": null,
      "outputs": [
        {
          "output_type": "stream",
          "name": "stdout",
          "text": [
            "{'brand': 'Ford', 'model': 'Mustang', 'year': 2022}\n"
          ]
        }
      ]
    },
    {
      "cell_type": "code",
      "source": [
        "list = [\"apple\"]\n",
        "print(list[:5])"
      ],
      "metadata": {
        "colab": {
          "base_uri": "https://localhost:8080/"
        },
        "id": "nF8HXrCS47sI",
        "outputId": "39c5f7ac-669d-4d52-f282-dd5dd75e147e"
      },
      "execution_count": null,
      "outputs": [
        {
          "output_type": "stream",
          "name": "stdout",
          "text": [
            "['apple']\n"
          ]
        }
      ]
    },
    {
      "cell_type": "code",
      "source": [
        "list = [\"apple\", \"banana\", \"cherry\"]\n",
        "print(list[0])"
      ],
      "metadata": {
        "colab": {
          "base_uri": "https://localhost:8080/"
        },
        "id": "sbrnUcfv5L9G",
        "outputId": "76353472-1d9b-4ae7-fdba-390395eb9ed7"
      },
      "execution_count": null,
      "outputs": [
        {
          "output_type": "stream",
          "name": "stdout",
          "text": [
            "apple\n"
          ]
        }
      ]
    },
    {
      "cell_type": "code",
      "source": [
        "thisdict = {\n",
        "  \"brand\": \"Ford\",\n",
        "  \"model\": \"Mustang\",\n",
        "  \"year\": 1964\n",
        "}\n",
        "print(type(thisdict))"
      ],
      "metadata": {
        "colab": {
          "base_uri": "https://localhost:8080/"
        },
        "id": "S-O9qi-Z6L5Z",
        "outputId": "d6ac04ae-2cc3-4e11-a354-a8f06cee69d0"
      },
      "execution_count": null,
      "outputs": [
        {
          "output_type": "stream",
          "name": "stdout",
          "text": [
            "<class 'dict'>\n"
          ]
        }
      ]
    },
    {
      "cell_type": "code",
      "source": [
        "x = 35e3\n",
        "y = 12E4\n",
        "\n",
        "print(type(x))\n",
        "print(type(y))"
      ],
      "metadata": {
        "colab": {
          "base_uri": "https://localhost:8080/"
        },
        "id": "jLTumgN77RzK",
        "outputId": "5c65d874-6fd8-43b2-b352-ff74f7997f9d"
      },
      "execution_count": null,
      "outputs": [
        {
          "output_type": "stream",
          "name": "stdout",
          "text": [
            "<class 'float'>\n",
            "<class 'float'>\n"
          ]
        }
      ]
    },
    {
      "cell_type": "code",
      "source": [
        "x = 3+5j\n",
        "print(type(x))"
      ],
      "metadata": {
        "colab": {
          "base_uri": "https://localhost:8080/"
        },
        "id": "L73Uaz8U7kPv",
        "outputId": "a59cb4a2-1ce8-44cd-8436-b4ac9ad1bd31"
      },
      "execution_count": null,
      "outputs": [
        {
          "output_type": "stream",
          "name": "stdout",
          "text": [
            "<class 'complex'>\n"
          ]
        }
      ]
    },
    {
      "cell_type": "code",
      "source": [
        "x = 1    \n",
        "y = 2.8  \n",
        "z = 1j   \n",
        "#convert from int to float:\n",
        "a = float(x)\n",
        "\n",
        "#convert from float to int:\n",
        "b = int(y)\n",
        "\n",
        "#convert from int to complex:\n",
        "c = complex(x)\n",
        "\n",
        "print(a)\n",
        "print(b)\n",
        "print(c)\n",
        "\n",
        "print(type(a))\n",
        "print(type(b))\n",
        "print(type(c))"
      ],
      "metadata": {
        "colab": {
          "base_uri": "https://localhost:8080/"
        },
        "id": "1YzY-hgf74M5",
        "outputId": "b7ba834b-d531-4e10-9170-0b2d2d779b93"
      },
      "execution_count": null,
      "outputs": [
        {
          "output_type": "stream",
          "name": "stdout",
          "text": [
            "1.0\n",
            "2\n",
            "(1+0j)\n",
            "<class 'float'>\n",
            "<class 'int'>\n",
            "<class 'complex'>\n"
          ]
        }
      ]
    },
    {
      "cell_type": "code",
      "source": [
        "b = \"Hello, World!\"\n",
        "print(b[2:])"
      ],
      "metadata": {
        "colab": {
          "base_uri": "https://localhost:8080/"
        },
        "id": "V9Wsez_F8nl5",
        "outputId": "0317d73a-1c01-4942-da2d-dfd0751e3620"
      },
      "execution_count": null,
      "outputs": [
        {
          "output_type": "stream",
          "name": "stdout",
          "text": [
            "llo, World!\n"
          ]
        }
      ]
    },
    {
      "cell_type": "code",
      "source": [
        "fruits = [\"apple\", \"banana\", \"cherry\", \"kiwi\", \"mango\"]\n",
        "newlist = []\n",
        "\n",
        "for x in fruits:\n",
        "  if \"c\" in x:\n",
        "    newlist.append(x)\n",
        "\n",
        "print(newlist)"
      ],
      "metadata": {
        "colab": {
          "base_uri": "https://localhost:8080/"
        },
        "id": "3VgZYxJw9IeB",
        "outputId": "de1a3837-7c1f-4074-a622-0a741be4d6e0"
      },
      "execution_count": null,
      "outputs": [
        {
          "output_type": "stream",
          "name": "stdout",
          "text": [
            "['cherry']\n"
          ]
        }
      ]
    },
    {
      "cell_type": "code",
      "source": [
        "fruits = [\"kiwi\", \"banana\", \"cherry\", \"apple\", \"water\"]\n",
        "\n",
        "newlist = [x for x in fruits if \"a\" in x]\n",
        "\n",
        "print(newlist)"
      ],
      "metadata": {
        "colab": {
          "base_uri": "https://localhost:8080/"
        },
        "id": "ggM0GU-_93r6",
        "outputId": "e194dee0-ba13-4197-80f9-5332cdd503be"
      },
      "execution_count": null,
      "outputs": [
        {
          "output_type": "stream",
          "name": "stdout",
          "text": [
            "['banana', 'apple', 'water']\n"
          ]
        }
      ]
    },
    {
      "cell_type": "code",
      "source": [
        "stduent = {\n",
        "  \"ID\": \"4110E113\",\n",
        "  \"name\": \"wea\",\n",
        "  \"born\": 2022\n",
        "}\n",
        "stduent[\"number\"] = 2\n",
        "print(stduent)\n"
      ],
      "metadata": {
        "colab": {
          "base_uri": "https://localhost:8080/"
        },
        "id": "b88lNo5i-Ts1",
        "outputId": "a70c3487-291a-4de3-84cd-675d21c3b9b0"
      },
      "execution_count": 2,
      "outputs": [
        {
          "output_type": "stream",
          "name": "stdout",
          "text": [
            "{'ID': '4110E113', 'name': 'wea', 'born': 2022, 'number': 2}\n"
          ]
        }
      ]
    },
    {
      "cell_type": "code",
      "source": [
        "myfamily = {\n",
        "  \"me\" : {\n",
        "    \"name\" : \"ran\",\n",
        "    \"year\" : 2003\n",
        "  },\n",
        "  \"bro\" : {\n",
        "    \"name\" : \"Tobi\",\n",
        "    \"year\" : 2001\n",
        "  },\n",
        "  \"sis\" : {\n",
        "    \"name\" : \"Emy\",\n",
        "    \"year\" : 1998\n",
        "  }\n",
        "}\n",
        "for x, y in myfamily.items():\n",
        "  print(x, y)\n"
      ],
      "metadata": {
        "colab": {
          "base_uri": "https://localhost:8080/"
        },
        "id": "jVq-bQXP-sez",
        "outputId": "a7773927-774b-40be-c51e-c47c1d8164e6"
      },
      "execution_count": 16,
      "outputs": [
        {
          "output_type": "stream",
          "name": "stdout",
          "text": [
            "me {'name': 'ran', 'year': 2003}\n",
            "bro {'name': 'Tobi', 'year': 2001}\n",
            "sis {'name': 'Emy', 'year': 1998}\n"
          ]
        }
      ]
    },
    {
      "cell_type": "code",
      "source": [
        "x = 6\n",
        "y = 2\n",
        "\n",
        "print(x % y)\n"
      ],
      "metadata": {
        "colab": {
          "base_uri": "https://localhost:8080/"
        },
        "id": "Q6alHgk0BFkb",
        "outputId": "ee70d5ba-5469-4614-cdcd-8c27098b363f"
      },
      "execution_count": null,
      "outputs": [
        {
          "output_type": "stream",
          "name": "stdout",
          "text": [
            "0\n"
          ]
        }
      ]
    },
    {
      "cell_type": "code",
      "source": [
        "x = 1\n",
        "y = 2\n",
        "\n",
        "print(x % y)\n"
      ],
      "metadata": {
        "colab": {
          "base_uri": "https://localhost:8080/"
        },
        "id": "Oadfr8AQBGp6",
        "outputId": "b93a77b1-b7de-42bd-db74-ed216b92ec6b"
      },
      "execution_count": null,
      "outputs": [
        {
          "output_type": "stream",
          "name": "stdout",
          "text": [
            "1\n"
          ]
        }
      ]
    },
    {
      "cell_type": "code",
      "source": [
        "x = 4125152\n",
        "y = 2\n",
        "\n",
        "print(x % y)\n"
      ],
      "metadata": {
        "colab": {
          "base_uri": "https://localhost:8080/"
        },
        "id": "uuAgdQpmBJP5",
        "outputId": "ea929c87-e358-4100-a1cf-f3b268e10122"
      },
      "execution_count": null,
      "outputs": [
        {
          "output_type": "stream",
          "name": "stdout",
          "text": [
            "0\n"
          ]
        }
      ]
    },
    {
      "cell_type": "code",
      "source": [
        "x = 2\n",
        "y = 5\n",
        "\n",
        "print(x ** y)"
      ],
      "metadata": {
        "colab": {
          "base_uri": "https://localhost:8080/"
        },
        "id": "8yW4WlvwBR8C",
        "outputId": "dfb95044-719e-4eff-bac2-552392ca395a"
      },
      "execution_count": null,
      "outputs": [
        {
          "output_type": "stream",
          "name": "stdout",
          "text": [
            "32\n"
          ]
        }
      ]
    },
    {
      "cell_type": "code",
      "source": [
        "x = 2\n",
        "y = 10\n",
        "\n",
        "print(x ** y)"
      ],
      "metadata": {
        "colab": {
          "base_uri": "https://localhost:8080/"
        },
        "id": "8k2w0u0ZBTpC",
        "outputId": "4935f47e-9b02-44ef-e1c3-98a959c50f90"
      },
      "execution_count": null,
      "outputs": [
        {
          "output_type": "stream",
          "name": "stdout",
          "text": [
            "1024\n"
          ]
        }
      ]
    },
    {
      "cell_type": "code",
      "source": [
        "x = 4125252\n",
        "y = 2\n",
        "\n",
        "print(x // y)\n"
      ],
      "metadata": {
        "colab": {
          "base_uri": "https://localhost:8080/"
        },
        "id": "uGdSAiIJBZWS",
        "outputId": "70f8ccce-5472-44ef-b14f-dccf2fa2199b"
      },
      "execution_count": null,
      "outputs": [
        {
          "output_type": "stream",
          "name": "stdout",
          "text": [
            "2062626\n"
          ]
        }
      ]
    },
    {
      "cell_type": "code",
      "source": [
        "x = 4125251\n",
        "y = 2\n",
        "\n",
        "print(x // y)\n"
      ],
      "metadata": {
        "colab": {
          "base_uri": "https://localhost:8080/"
        },
        "id": "EAo25tHRBhCs",
        "outputId": "3416e511-ad94-4273-e229-20f336edf7f2"
      },
      "execution_count": null,
      "outputs": [
        {
          "output_type": "stream",
          "name": "stdout",
          "text": [
            "2062625\n"
          ]
        }
      ]
    },
    {
      "cell_type": "code",
      "source": [
        "x = 5\n",
        "\n",
        "x += 3\n",
        "\n",
        "print(x)\n"
      ],
      "metadata": {
        "colab": {
          "base_uri": "https://localhost:8080/"
        },
        "id": "3VihHDd8BsEy",
        "outputId": "21ee2259-7b8e-4c98-89f9-d227009eec6f"
      },
      "execution_count": null,
      "outputs": [
        {
          "output_type": "stream",
          "name": "stdout",
          "text": [
            "8\n"
          ]
        }
      ]
    },
    {
      "cell_type": "code",
      "source": [
        "x = 20\n",
        "\n",
        "x += 3\n",
        "\n",
        "print(x)\n"
      ],
      "metadata": {
        "colab": {
          "base_uri": "https://localhost:8080/"
        },
        "id": "B4FV8QDqBtbC",
        "outputId": "3d9e673d-bfa6-4e66-911d-1a8fe068b0e1"
      },
      "execution_count": null,
      "outputs": [
        {
          "output_type": "stream",
          "name": "stdout",
          "text": [
            "23\n"
          ]
        }
      ]
    },
    {
      "cell_type": "code",
      "source": [
        "x = \n",
        "\n",
        "x &= 3\n",
        "\n",
        "print(x)"
      ],
      "metadata": {
        "colab": {
          "base_uri": "https://localhost:8080/"
        },
        "id": "eCV6z57GBzTC",
        "outputId": "0f2f4808-7a66-403a-bcfc-1a6455c4f943"
      },
      "execution_count": null,
      "outputs": [
        {
          "output_type": "stream",
          "name": "stdout",
          "text": [
            "1\n"
          ]
        }
      ]
    },
    {
      "cell_type": "code",
      "source": [
        "x = 5\n",
        "y = 8\n",
        "\n",
        "print(x != y)"
      ],
      "metadata": {
        "colab": {
          "base_uri": "https://localhost:8080/"
        },
        "id": "OOzlbSqpDQVO",
        "outputId": "22ed604f-a8c3-43af-d2a9-0cc63de937e2"
      },
      "execution_count": null,
      "outputs": [
        {
          "output_type": "stream",
          "name": "stdout",
          "text": [
            "True\n"
          ]
        }
      ]
    },
    {
      "cell_type": "code",
      "source": [
        "x = 8\n",
        "\n",
        "print(x > 6 and x < 9)"
      ],
      "metadata": {
        "colab": {
          "base_uri": "https://localhost:8080/"
        },
        "id": "CM4bDBFnEHtS",
        "outputId": "731dea45-e4a6-49ad-fbe2-dd897efd4008"
      },
      "execution_count": null,
      "outputs": [
        {
          "output_type": "stream",
          "name": "stdout",
          "text": [
            "True\n"
          ]
        }
      ]
    },
    {
      "cell_type": "code",
      "source": [
        "x = 8\n",
        "y = 7\n",
        "\n",
        "print(x / y)"
      ],
      "metadata": {
        "colab": {
          "base_uri": "https://localhost:8080/"
        },
        "id": "GANzeUtg4E1e",
        "outputId": "2f6effc8-e916-483d-d9cb-4c5282a2a16c"
      },
      "execution_count": null,
      "outputs": [
        {
          "output_type": "stream",
          "name": "stdout",
          "text": [
            "1.1428571428571428\n"
          ]
        }
      ]
    },
    {
      "cell_type": "code",
      "source": [
        "x = [\"0\", \"21\"]\n",
        "y = [\"0\", \"21\"]\n",
        "z = x\n",
        "\n",
        "print(x is z)\n",
        "#UNDERSANAD!\n",
        "print(x is y)\n",
        "\n",
        "print(x == y)"
      ],
      "metadata": {
        "colab": {
          "base_uri": "https://localhost:8080/"
        },
        "id": "t-6XLK59BcBA",
        "outputId": "add70af7-cad3-4ace-8f79-ac7b08803233"
      },
      "execution_count": null,
      "outputs": [
        {
          "output_type": "stream",
          "name": "stdout",
          "text": [
            "True\n",
            "False\n",
            "True\n"
          ]
        }
      ]
    },
    {
      "cell_type": "code",
      "source": [
        "x = 3\n",
        "\n",
        "print(not(x > 3 and x < 10))"
      ],
      "metadata": {
        "colab": {
          "base_uri": "https://localhost:8080/"
        },
        "id": "FH4OQZ2GDRTA",
        "outputId": "7acf6c7a-7495-4c01-e40a-01b29af8a584"
      },
      "execution_count": null,
      "outputs": [
        {
          "output_type": "stream",
          "name": "stdout",
          "text": [
            "True\n"
          ]
        }
      ]
    },
    {
      "cell_type": "code",
      "source": [
        "x = 5\n",
        "y = 3\n",
        "# (! is not)\n",
        "print(x != y)"
      ],
      "metadata": {
        "colab": {
          "base_uri": "https://localhost:8080/"
        },
        "id": "jfC-0EmuDV9r",
        "outputId": "65724dbe-23b9-4b2b-c150-a5c91b8afd4f"
      },
      "execution_count": null,
      "outputs": [
        {
          "output_type": "stream",
          "name": "stdout",
          "text": [
            "True\n"
          ]
        }
      ]
    },
    {
      "cell_type": "code",
      "source": [
        "x = [\"1\", \"0\"]\n",
        "\n",
        "print(\"1\" not in x)"
      ],
      "metadata": {
        "colab": {
          "base_uri": "https://localhost:8080/"
        },
        "id": "1AxCOVO0EHdx",
        "outputId": "3ff5d71d-cfdd-4a23-b168-e7cd226e8fa8"
      },
      "execution_count": null,
      "outputs": [
        {
          "output_type": "stream",
          "name": "stdout",
          "text": [
            "False\n"
          ]
        }
      ]
    },
    {
      "cell_type": "code",
      "source": [
        "x = \"hey, 4110E113!\"\n",
        "print(x[:8])"
      ],
      "metadata": {
        "colab": {
          "base_uri": "https://localhost:8080/"
        },
        "id": "cwp4W7TUH9pf",
        "outputId": "48d8a9a1-9c8f-42c7-b640-07dfcce47195"
      },
      "execution_count": null,
      "outputs": [
        {
          "output_type": "stream",
          "name": "stdout",
          "text": [
            "hey, 411\n"
          ]
        }
      ]
    },
    {
      "cell_type": "code",
      "source": [
        "a = \"hello, 4110e113!\"\n",
        "print(a.upper())"
      ],
      "metadata": {
        "colab": {
          "base_uri": "https://localhost:8080/"
        },
        "id": "LOLsyqDHS3a3",
        "outputId": "c1b428e9-c8ba-4eca-f0ac-472608295e03"
      },
      "execution_count": null,
      "outputs": [
        {
          "output_type": "stream",
          "name": "stdout",
          "text": [
            "HELLO, 4110E113!\n"
          ]
        }
      ]
    },
    {
      "cell_type": "code",
      "source": [
        "x =\"HELLO, 4110E113\"\n",
        "print(lower())"
      ],
      "metadata": {
        "colab": {
          "base_uri": "https://localhost:8080/",
          "height": 185
        },
        "id": "TLDgIOBWbYGX",
        "outputId": "18cb9d24-2b4e-4e9c-bd6e-4de806d5860d"
      },
      "execution_count": null,
      "outputs": [
        {
          "output_type": "error",
          "ename": "NameError",
          "evalue": "ignored",
          "traceback": [
            "\u001b[0;31m---------------------------------------------------------------------------\u001b[0m",
            "\u001b[0;31mNameError\u001b[0m                                 Traceback (most recent call last)",
            "\u001b[0;32m<ipython-input-2-291f8a2d4b51>\u001b[0m in \u001b[0;36m<module>\u001b[0;34m\u001b[0m\n\u001b[1;32m      1\u001b[0m \u001b[0mx\u001b[0m \u001b[0;34m=\u001b[0m\u001b[0;34m\"HELLO, 4110E113\"\u001b[0m\u001b[0;34m\u001b[0m\u001b[0;34m\u001b[0m\u001b[0m\n\u001b[0;32m----> 2\u001b[0;31m \u001b[0mprint\u001b[0m\u001b[0;34m(\u001b[0m\u001b[0mlower\u001b[0m\u001b[0;34m(\u001b[0m\u001b[0;34m)\u001b[0m\u001b[0;34m)\u001b[0m\u001b[0;34m\u001b[0m\u001b[0;34m\u001b[0m\u001b[0m\n\u001b[0m",
            "\u001b[0;31mNameError\u001b[0m: name 'lower' is not defined"
          ]
        }
      ]
    },
    {
      "cell_type": "code",
      "source": [
        "x =\"HELLO, 4110E113\"\n",
        "print(x.lower())"
      ],
      "metadata": {
        "id": "jL8WAjOTbcj-",
        "outputId": "68e612dc-81a8-4c70-de98-5f99d0532096",
        "colab": {
          "base_uri": "https://localhost:8080/"
        }
      },
      "execution_count": null,
      "outputs": [
        {
          "output_type": "stream",
          "name": "stdout",
          "text": [
            "hello, 4110e113\n"
          ]
        }
      ]
    },
    {
      "cell_type": "code",
      "source": [
        "a = \"Hello, 3000E113!\"\n",
        "print(a.replace(\"300\", \"411\"))"
      ],
      "metadata": {
        "colab": {
          "base_uri": "https://localhost:8080/"
        },
        "id": "pStcoZuiMS51",
        "outputId": "bdf9a729-4ae2-4d74-97af-9b7baa8b3cce"
      },
      "execution_count": null,
      "outputs": [
        {
          "output_type": "stream",
          "name": "stdout",
          "text": [
            "Hello, 4110E113!\n"
          ]
        }
      ]
    },
    {
      "cell_type": "code",
      "source": [
        "a = \"hey\"\n",
        "b = \"4110E113\"\n",
        "c = a + \"\\t\" + b\n",
        "print(c)"
      ],
      "metadata": {
        "id": "xgdgNgkwNZFT",
        "outputId": "537711a8-b640-48bb-90d8-952c54a3131f",
        "colab": {
          "base_uri": "https://localhost:8080/"
        }
      },
      "execution_count": null,
      "outputs": [
        {
          "output_type": "stream",
          "name": "stdout",
          "text": [
            "hey\t4110E113\n"
          ]
        }
      ]
    },
    {
      "cell_type": "code",
      "source": [
        "height = 100\n",
        "x = \"my height is {}\"\n",
        "print(x.format(height))"
      ],
      "metadata": {
        "colab": {
          "base_uri": "https://localhost:8080/"
        },
        "id": "IgGRuCtyoiwm",
        "outputId": "66bdcfea-bd0e-4b87-c164-a1287f5ef2f8"
      },
      "execution_count": 1,
      "outputs": [
        {
          "output_type": "stream",
          "name": "stdout",
          "text": [
            "my height is 100\n"
          ]
        }
      ]
    },
    {
      "cell_type": "code",
      "source": [
        "txt = \"i'm good\\t maybe\\nnice to meet u\"\n",
        "print(txt)"
      ],
      "metadata": {
        "colab": {
          "base_uri": "https://localhost:8080/"
        },
        "id": "8HNFsHitpNwH",
        "outputId": "3d5507d5-679c-4c29-8981-dbdfa073263e"
      },
      "execution_count": 6,
      "outputs": [
        {
          "output_type": "stream",
          "name": "stdout",
          "text": [
            "i'm good\t maybe\n",
            "nice to meet u\n"
          ]
        }
      ]
    },
    {
      "cell_type": "code",
      "source": [
        "x = \"hElLo, HeLlO\"\n",
        "x.capitalize()"
      ],
      "metadata": {
        "colab": {
          "base_uri": "https://localhost:8080/",
          "height": 36
        },
        "id": "MrjrTTWzq1Ol",
        "outputId": "f8499694-1b5f-4154-c296-4ef5c24a3819"
      },
      "execution_count": 17,
      "outputs": [
        {
          "output_type": "execute_result",
          "data": {
            "text/plain": [
              "'Hello, hello'"
            ],
            "application/vnd.google.colaboratory.intrinsic+json": {
              "type": "string"
            }
          },
          "metadata": {},
          "execution_count": 17
        }
      ]
    },
    {
      "cell_type": "code",
      "source": [
        "x = \"Hello, 4110E113\"\n",
        "y = \"l\"\n",
        "x.count(y)"
      ],
      "metadata": {
        "colab": {
          "base_uri": "https://localhost:8080/"
        },
        "id": "uvVa2bbss00X",
        "outputId": "e99d81d6-3cb0-4672-ba1a-19b061ce2568"
      },
      "execution_count": 23,
      "outputs": [
        {
          "output_type": "execute_result",
          "data": {
            "text/plain": [
              "2"
            ]
          },
          "metadata": {},
          "execution_count": 23
        }
      ]
    },
    {
      "cell_type": "code",
      "source": [
        "x = [\"a\", \"b\", \"c\"]\n",
        "x[0:2] = \"x\", \"y\"\n",
        "print(x)"
      ],
      "metadata": {
        "colab": {
          "base_uri": "https://localhost:8080/"
        },
        "id": "QxTPPA_9uBYs",
        "outputId": "f91919f9-7f11-4cb2-b675-ae885a17b6eb"
      },
      "execution_count": 35,
      "outputs": [
        {
          "output_type": "stream",
          "name": "stdout",
          "text": [
            "['x', 'y', 'c']\n"
          ]
        }
      ]
    },
    {
      "cell_type": "code",
      "source": [
        "x = [1, 2, 3]\n",
        "x.insert(0,0)\n",
        "print(x)"
      ],
      "metadata": {
        "colab": {
          "base_uri": "https://localhost:8080/"
        },
        "id": "EU8Uz9v5vkBj",
        "outputId": "41e55d35-ca91-457a-c24f-b437598fedfa"
      },
      "execution_count": 42,
      "outputs": [
        {
          "output_type": "stream",
          "name": "stdout",
          "text": [
            "[0, 1, 2, 3]\n"
          ]
        }
      ]
    },
    {
      "cell_type": "code",
      "source": [
        "x = [\"1\", \"2\", \"3\"]\n",
        "del x[0]\n",
        "print(x)"
      ],
      "metadata": {
        "colab": {
          "base_uri": "https://localhost:8080/"
        },
        "id": "9toS1qCywafZ",
        "outputId": "ecbba180-9d7a-419f-a14a-6426bd27101e"
      },
      "execution_count": 49,
      "outputs": [
        {
          "output_type": "stream",
          "name": "stdout",
          "text": [
            "['2', '3']\n"
          ]
        }
      ]
    },
    {
      "cell_type": "code",
      "source": [
        "txt = [\"0\", \"1\", \"2\"]\n",
        "for x in txt:\n",
        "  print(x)"
      ],
      "metadata": {
        "colab": {
          "base_uri": "https://localhost:8080/"
        },
        "id": "5tQuIbqUxKth",
        "outputId": "d9c86aa6-2040-4e91-ef5a-c77d5594b9c2"
      },
      "execution_count": 54,
      "outputs": [
        {
          "output_type": "stream",
          "name": "stdout",
          "text": [
            "0\n",
            "1\n",
            "2\n"
          ]
        }
      ]
    },
    {
      "cell_type": "code",
      "source": [
        "num1 = [\"0422530\", \"12346271\", \"2456\", \"3345783\", \"4230462\"]\n",
        "num2 = []\n",
        "\n",
        "for x in num1:\n",
        "  if \"0\" in x:\n",
        "    num2.append(x)\n",
        "\n",
        "print(num2)"
      ],
      "metadata": {
        "colab": {
          "base_uri": "https://localhost:8080/"
        },
        "id": "-_CisEGbxrZ3",
        "outputId": "e46b7309-110a-4039-be81-3f8a4b274c15"
      },
      "execution_count": 66,
      "outputs": [
        {
          "output_type": "stream",
          "name": "stdout",
          "text": [
            "['0422530', '4230462']\n"
          ]
        }
      ]
    },
    {
      "cell_type": "code",
      "source": [
        "num = [0, 1, 2, 3, 4]\n",
        "num.sort()\n",
        "print(num)"
      ],
      "metadata": {
        "colab": {
          "base_uri": "https://localhost:8080/"
        },
        "id": "57UggIsE3Obo",
        "outputId": "0020d19c-846e-499c-89d1-cb1b091499e9"
      },
      "execution_count": 68,
      "outputs": [
        {
          "output_type": "stream",
          "name": "stdout",
          "text": [
            "[0, 1, 2, 3, 4]\n"
          ]
        }
      ]
    },
    {
      "cell_type": "code",
      "source": [
        "num1 = [\"0\", \"1\", \"2\"]\n",
        "num2 = num1.copy()\n",
        "print(num2)"
      ],
      "metadata": {
        "colab": {
          "base_uri": "https://localhost:8080/"
        },
        "id": "eA0PZ8cp4bO-",
        "outputId": "b76c9e1f-20a0-44e4-ccee-47073ae1526f"
      },
      "execution_count": 69,
      "outputs": [
        {
          "output_type": "stream",
          "name": "stdout",
          "text": [
            "['0', '1', '2']\n"
          ]
        }
      ]
    },
    {
      "cell_type": "code",
      "source": [
        "num1 = [4, 1, 1]\n",
        "num2 = [0, \"E\", 1, 1, 3]\n",
        "\n",
        "num1.extend(num2)\n",
        "print(num1)"
      ],
      "metadata": {
        "colab": {
          "base_uri": "https://localhost:8080/"
        },
        "id": "G8bU_ruy5ICV",
        "outputId": "82697418-651f-4b46-d980-a2f7d89d1c9f"
      },
      "execution_count": 70,
      "outputs": [
        {
          "output_type": "stream",
          "name": "stdout",
          "text": [
            "[4, 1, 1, 0, 'E', 1, 1, 3]\n"
          ]
        }
      ]
    },
    {
      "cell_type": "code",
      "source": [
        "num = ['0', '1', '2']\n",
        "num.append(\"3\")\n",
        "print(num)"
      ],
      "metadata": {
        "colab": {
          "base_uri": "https://localhost:8080/"
        },
        "id": "h1gTmAZM6gc5",
        "outputId": "5147335a-8e8d-4185-ac73-8bcbc887a8dc"
      },
      "execution_count": 72,
      "outputs": [
        {
          "output_type": "stream",
          "name": "stdout",
          "text": [
            "['0', '1', '2', '3']\n"
          ]
        }
      ]
    },
    {
      "cell_type": "code",
      "source": [
        "student = {\n",
        "  \"ID\": \"4110E113\",\n",
        "  \"name\": \"wea\",\n",
        "}\n",
        "x = student[\"ID\"]\n",
        "print(x)"
      ],
      "metadata": {
        "colab": {
          "base_uri": "https://localhost:8080/"
        },
        "id": "eXOiSo7_8Erw",
        "outputId": "fa555660-df0d-49f1-a9c6-e13b5273d568"
      },
      "execution_count": 75,
      "outputs": [
        {
          "output_type": "stream",
          "name": "stdout",
          "text": [
            "4110E113\n"
          ]
        }
      ]
    },
    {
      "cell_type": "code",
      "source": [
        "student = {\n",
        "  \"ID\": \"4110E113\",\n",
        "  \"name\": \"wea\",\n",
        "}\n",
        "student[\"name\"] = \"wearan\"\n",
        "print(student)"
      ],
      "metadata": {
        "colab": {
          "base_uri": "https://localhost:8080/"
        },
        "id": "-BCJI98_8hL0",
        "outputId": "edcab613-2ab6-4964-c936-d0c3918d1cda"
      },
      "execution_count": 80,
      "outputs": [
        {
          "output_type": "stream",
          "name": "stdout",
          "text": [
            "{'ID': '4110E113', 'name': 'wearan'}\n"
          ]
        }
      ]
    },
    {
      "cell_type": "code",
      "source": [
        "student = {\n",
        "  \"ID\": \"4110E113\",\n",
        "  \"name\": \"yuki\",\n",
        "  \"year\": 1964\n",
        "}\n",
        "del student[\"year\"]\n",
        "print(student)"
      ],
      "metadata": {
        "colab": {
          "base_uri": "https://localhost:8080/"
        },
        "id": "tfOisZxp5-Oo",
        "outputId": "9f529ffd-eb6d-4e10-b5e0-c9ff3d860a30"
      },
      "execution_count": 3,
      "outputs": [
        {
          "output_type": "stream",
          "name": "stdout",
          "text": [
            "{'ID': '4110E113', 'name': 'yuki'}\n"
          ]
        }
      ]
    },
    {
      "cell_type": "code",
      "source": [
        "student = {\n",
        "  \"ID\": \"4110E113\",\n",
        "  \"name\": \"yuki\",\n",
        "}\n",
        "for x, y in student.items():\n",
        "  print(x, y)"
      ],
      "metadata": {
        "colab": {
          "base_uri": "https://localhost:8080/"
        },
        "id": "q2h2wVo86k8p",
        "outputId": "8d4be410-093a-42df-dacb-522fdac99433"
      },
      "execution_count": 9,
      "outputs": [
        {
          "output_type": "stream",
          "name": "stdout",
          "text": [
            "ID 4110E113\n",
            "name yuki\n"
          ]
        }
      ]
    },
    {
      "cell_type": "code",
      "source": [
        "student = {\n",
        "  \"ID\": \"4110E113\",\n",
        "  \"name\": \"yuki\",\n",
        "}\n",
        "txt = student.copy()\n",
        "\n",
        "for x, y in txt.items():\n",
        "  print(x, y)"
      ],
      "metadata": {
        "colab": {
          "base_uri": "https://localhost:8080/"
        },
        "id": "5Ux92iu07IT8",
        "outputId": "45edb048-6c7a-4c82-bbff-adefcb59d3b4"
      },
      "execution_count": 11,
      "outputs": [
        {
          "output_type": "stream",
          "name": "stdout",
          "text": [
            "ID 4110E113\n",
            "name yuki\n"
          ]
        }
      ]
    },
    {
      "cell_type": "code",
      "source": [
        "car = {\n",
        "  \"brand\": \"Ford\",\n",
        "  \"model\": \"Mustang\",\n",
        "  \"year\": 1964\n",
        "}\n",
        "\n",
        "x = car.keys()\n",
        "\n",
        "car[\"color\"] = \"white\"\n",
        "\n",
        "print(x)"
      ],
      "metadata": {
        "colab": {
          "base_uri": "https://localhost:8080/"
        },
        "id": "H9JznCja8YJ9",
        "outputId": "282767d5-8a73-49b7-c33d-2aa563193e2c"
      },
      "execution_count": 17,
      "outputs": [
        {
          "output_type": "stream",
          "name": "stdout",
          "text": [
            "dict_keys(['brand', 'model', 'year', 'color'])\n"
          ]
        }
      ]
    },
    {
      "cell_type": "code",
      "source": [
        "myfamily = {\n",
        "  \"me\" : {\n",
        "    \"name\" : \"ran\",\n",
        "    \"year\" : 2003\n",
        "  },\n",
        "  \"bro\" : {\n",
        "    \"name\" : \"Tobi\",\n",
        "    \"year\" : 2001\n",
        "  },\n",
        "  \"sis\" : {\n",
        "    \"name\" : \"Emy\",\n",
        "    \"year\" : 1998\n",
        "  }\n",
        "}\n",
        "\n",
        "myfamily.clear()\n",
        "print(myfamily)"
      ],
      "metadata": {
        "colab": {
          "base_uri": "https://localhost:8080/"
        },
        "id": "tf6-f0Rg8uxS",
        "outputId": "8f091d6a-a8da-4216-8815-bbde8a34cc76"
      },
      "execution_count": 22,
      "outputs": [
        {
          "output_type": "stream",
          "name": "stdout",
          "text": [
            "{}\n"
          ]
        }
      ]
    },
    {
      "cell_type": "code",
      "source": [
        "print(10 & 5)"
      ],
      "metadata": {
        "colab": {
          "base_uri": "https://localhost:8080/"
        },
        "id": "3yxFaxr39Zd6",
        "outputId": "1e32c1b4-e371-4544-ff02-0a482acc7bd3"
      },
      "execution_count": 23,
      "outputs": [
        {
          "output_type": "stream",
          "name": "stdout",
          "text": [
            "0\n"
          ]
        }
      ]
    }
  ]
}

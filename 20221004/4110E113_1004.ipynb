{
  "nbformat": 4,
  "nbformat_minor": 0,
  "metadata": {
    "colab": {
      "provenance": [],
      "collapsed_sections": []
    },
    "kernelspec": {
      "name": "python3",
      "display_name": "Python 3"
    },
    "language_info": {
      "name": "python"
    }
  },
  "cells": [
    {
      "cell_type": "code",
      "execution_count": 1,
      "metadata": {
        "colab": {
          "base_uri": "https://localhost:8080/"
        },
        "id": "FI8fXlFmuYl9",
        "outputId": "c5997097-3337-4bac-bd9d-7908b88708be"
      },
      "outputs": [
        {
          "output_type": "stream",
          "name": "stdout",
          "text": [
            "Enter your name:0\n",
            "HEllo ,0\n"
          ]
        }
      ],
      "source": [
        "a = input('Enter your name:')\n",
        "print('HEllo ,'+ a)"
      ]
    },
    {
      "cell_type": "code",
      "source": [
        "x = int(input(\"請輸入：\"))\n",
        "x\n",
        "\n",
        "b = x+50\n",
        "b"
      ],
      "metadata": {
        "colab": {
          "base_uri": "https://localhost:8080/"
        },
        "id": "uzj_JRUFvSrs",
        "outputId": "c7a9aa06-e7b0-4f8e-b523-41f08a8b9ce0"
      },
      "execution_count": 3,
      "outputs": [
        {
          "name": "stdout",
          "output_type": "stream",
          "text": [
            "請輸入：8\n"
          ]
        },
        {
          "output_type": "execute_result",
          "data": {
            "text/plain": [
              "58"
            ]
          },
          "metadata": {},
          "execution_count": 3
        }
      ]
    },
    {
      "cell_type": "code",
      "source": [],
      "metadata": {
        "id": "IcsTaEZwvmPj"
      },
      "execution_count": null,
      "outputs": []
    }
  ]
}